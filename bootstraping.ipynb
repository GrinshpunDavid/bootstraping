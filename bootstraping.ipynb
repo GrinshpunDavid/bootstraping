{
 "cells": [
  {
   "cell_type": "markdown",
   "metadata": {},
   "source": [
    "# Project description\n",
    "\n",
    "OilyGiant mining company need a model that will find the best place for a new well.\n",
    "\n",
    "Steps to choose the location:\n",
    "1. Collect the oil well parameters in the selected region: oil quality and volume of reserves.\n",
    "2. Build a model for predicting the volume of reserves in the new wells.\n",
    "3. Pick the oil wells with the highest estimated values.\n",
    "4. Pick the region with the highest total profit for the selected oil wells.\n",
    "5. Build a model that will help to pick the region with the highest profit margin. Analyze potential profit and risks using the Bootstrapping technique.\n",
    "\n",
    "\n",
    "Project conclution: suggest a region for development of oil wells and justify the choice.\n",
    "\n",
    "Data description:\n",
    "- Geological exploration data for the three regions are stored in three seperate csv's.\n",
    "- id - unique oil well identifier\n",
    "- f0, f1, f2 - three features of points (their specific meaning is unimportant, but the features themselves are significant)\n",
    "- product - volume of reserves in the oil well (thousand barrels).\n",
    "\n",
    "Conditions:\n",
    "- When exploring the region, a study of 500 points is carried with picking the best 200 points for the profit calculation.\n",
    "- The budget for development of 200 oil wells is 100 USD million.\n",
    "- One unit of product is 4,500 dollars (volume of reserves is in thousand barrels).\n",
    "- After the risk evaluation, keep only the regions with the risk of losses lower than 2.5%. From the ones that fit the criteria, the region with the highest average profit should be selected."
   ]
  },
  {
   "cell_type": "code",
   "execution_count": 1,
   "metadata": {},
   "outputs": [],
   "source": [
    "import pandas as pd\n",
    "from sklearn.metrics import accuracy_score, f1_score, roc_auc_score\n",
    "from sklearn.model_selection import train_test_split\n",
    "from joblib import dump\n",
    "\n",
    "from sklearn.linear_model import LinearRegression \n",
    "from sklearn.utils import shuffle\n",
    "import numpy as np\n",
    "import warnings\n",
    "\n",
    "from sklearn.metrics import mean_squared_error\n",
    "warnings.simplefilter(action='ignore')"
   ]
  },
  {
   "cell_type": "markdown",
   "metadata": {},
   "source": [
    "### Open and and prepare the data:"
   ]
  },
  {
   "cell_type": "code",
   "execution_count": 2,
   "metadata": {},
   "outputs": [
    {
     "name": "stdout",
     "output_type": "stream",
     "text": [
      "         f0        f1        f2     product\n",
      "0  0.705745 -0.497823  1.221170  105.280062\n",
      "1  1.334711 -0.340164  4.365080   73.037750\n",
      "2  1.022732  0.151990  1.419926   85.265647\n",
      "------------------------------------------------------------------------------\n",
      "<class 'pandas.core.frame.DataFrame'>\n",
      "RangeIndex: 100000 entries, 0 to 99999\n",
      "Data columns (total 4 columns):\n",
      " #   Column   Non-Null Count   Dtype  \n",
      "---  ------   --------------   -----  \n",
      " 0   f0       100000 non-null  float64\n",
      " 1   f1       100000 non-null  float64\n",
      " 2   f2       100000 non-null  float64\n",
      " 3   product  100000 non-null  float64\n",
      "dtypes: float64(4)\n",
      "memory usage: 3.1 MB\n",
      "None\n"
     ]
    }
   ],
   "source": [
    "df0 = pd.read_csv('/datasets/geo_data_0.csv')\n",
    "df1 = pd.read_csv('/datasets/geo_data_1.csv')\n",
    "df2 = pd.read_csv('/datasets/geo_data_2.csv')\n",
    "\n",
    "geo0 = df0[['f0','f1','f2','product']]\n",
    "geo1 = df1[['f0','f1','f2','product']]\n",
    "geo2 = df2[['f0','f1','f2','product']]\n",
    "\n",
    "print(geo0.head(3))\n",
    "print(\"------------------------------------------------------------------------------\")\n",
    "print(geo0.info())"
   ]
  },
  {
   "cell_type": "markdown",
   "metadata": {},
   "source": [
    "### Split the source data into a training set, a validation set, and a test set (75:25):"
   ]
  },
  {
   "cell_type": "code",
   "execution_count": 3,
   "metadata": {},
   "outputs": [],
   "source": [
    "geo0_valid, geo0_train = train_test_split(geo0, test_size=0.75, random_state=12345)\n",
    "features_train_0 = geo0_train.drop(['product'], axis=1)\n",
    "target_train_0 = geo0_train['product']\n",
    "features_valid_0 = geo0_valid.drop(['product'], axis=1)\n",
    "target_valid_0 = geo0_valid['product']\n",
    "\n",
    "geo1_valid, geo1_train = train_test_split(geo1, test_size=0.75, random_state=12345)\n",
    "features_train_1 = geo1_train.drop(['product'], axis=1)\n",
    "target_train_1 = geo1_train['product']\n",
    "features_valid_1 = geo1_valid.drop(['product'], axis=1)\n",
    "target_valid_1 = geo1_valid['product']\n",
    "\n",
    "geo2_valid, geo2_train = train_test_split(geo2, test_size=0.75, random_state=12345)\n",
    "features_train_2 = geo2_train.drop(['product'], axis=1)\n",
    "target_train_2 = geo2_train['product']\n",
    "features_valid_2 = geo2_valid.drop(['product'], axis=1)\n",
    "target_valid_2 = geo2_valid['product']"
   ]
  },
  {
   "cell_type": "markdown",
   "metadata": {},
   "source": [
    "#### Train the model and make predictions for the validation set.\n",
    "#### Print the average volume of predicted reserves and model RMSE."
   ]
  },
  {
   "cell_type": "code",
   "execution_count": 4,
   "metadata": {},
   "outputs": [
    {
     "name": "stdout",
     "output_type": "stream",
     "text": [
      "Geo0\n",
      "GAVG: 92.68042230714772\n",
      "RMSE: 37.68019646464799 \n",
      "\n",
      "Geo1\n",
      "GAVG: 68.8598208262229\n",
      "RMSE: 0.8873287354658539 \n",
      "\n",
      "Geo2\n",
      "GAVG: 95.06093851120131\n",
      "RMSE: 40.11167877627781 \n",
      "\n"
     ]
    }
   ],
   "source": [
    "def geocomp(features_train, target_train, features_valid, target_valid):\n",
    "    model = LinearRegression() \n",
    "    model.fit(features_train, target_train)   \n",
    "    prediction = model.predict(features_valid)\n",
    "    print(\"GAVG:\",prediction.mean())\n",
    "    print(\"RMSE:\",(mean_squared_error(target_valid, prediction))**0.5,\"\\n\")\n",
    "    return prediction\n",
    "\n",
    "print(\"Geo0\")\n",
    "prediction_0 = geocomp(features_train_0, target_train_0, features_valid_0, target_valid_0)\n",
    "print(\"Geo1\")\n",
    "prediction_1 = geocomp(features_train_1, target_train_1, features_valid_1, target_valid_1)\n",
    "print(\"Geo2\")\n",
    "prediction_2 = geocomp(features_train_2, target_train_2, features_valid_2, target_valid_2)"
   ]
  },
  {
   "cell_type": "markdown",
   "metadata": {},
   "source": [
    "#### Analysis of results:\n",
    "- Geo-2 and Geo-0 have much higher mean reserves.\n",
    "- Geo-1 have the smallest oil reserves\n",
    "- Geo-1 have the smallest root-mean-square error and subsequently have the best model accuracy."
   ]
  },
  {
   "cell_type": "markdown",
   "metadata": {},
   "source": [
    "### Profit calculation:\n",
    "* Store all key values for calculations in separate variables.\n",
    "* Calculate the volume of reserves sufficient for developing a new well without losses. \n",
    "* Compare the obtained value with the average volume of reserves in each region.\n"
   ]
  },
  {
   "cell_type": "code",
   "execution_count": 5,
   "metadata": {},
   "outputs": [
    {
     "name": "stdout",
     "output_type": "stream",
     "text": [
      "Minimal well size for profitability: 111.11\n",
      "Well mean size Geo 0, 1, 2:   92.68 , 68.86 , 95.06\n"
     ]
    }
   ],
   "source": [
    "OIL_UNIT_DOLLARS = 4500\n",
    "DEVELOPMENT_COST = 100000000\n",
    "WELL_COST = DEVELOPMENT_COST/200\n",
    "MIN_RESERVES = WELL_COST/OIL_UNIT_DOLLARS\n",
    "print(\"Minimal well size for profitability:\",round(MIN_RESERVES,2))\n",
    "print(\"Well mean size Geo 0, 1, 2:  \",round(prediction_0.mean(),2),\",\", \n",
    "      round(prediction_1.mean(),2),',', round(prediction_2.mean(),2))"
   ]
  },
  {
   "cell_type": "markdown",
   "metadata": {},
   "source": [
    "* Mean well size in all regions is smaller than the minimal profitability well size.\n",
    "* We need to train acurate model to pick the best wells at each region and maintain mean well size larger than the profitability braking point."
   ]
  },
  {
   "cell_type": "markdown",
   "metadata": {},
   "source": [
    "### function to calculate profit from a set of selected oil wells and model predictions:"
   ]
  },
  {
   "cell_type": "code",
   "execution_count": 6,
   "metadata": {},
   "outputs": [],
   "source": [
    "results_0 = pd.DataFrame (target_valid_0)\n",
    "results_0['prediction'] = prediction_0\n",
    "\n",
    "results_1 = pd.DataFrame (target_valid_1)\n",
    "results_1['prediction'] = prediction_1\n",
    "\n",
    "results_2 = pd.DataFrame (target_valid_2)\n",
    "results_2['prediction'] = prediction_2\n",
    "\n",
    "def profit(target, probabilities, count):\n",
    "    probs_sorted = probabilities.sort_values(ascending=False)\n",
    "    selected = target[probs_sorted.index][:count]\n",
    "    return (OIL_UNIT_DOLLARS * selected.sum() - DEVELOPMENT_COST)\n",
    "\n",
    "state = np.random.RandomState(12345)          "
   ]
  },
  {
   "cell_type": "markdown",
   "metadata": {},
   "source": [
    "### Calculate risks and profit for each region:\n",
    "* After the risk evaluation, keep only the regions with the risk of losses lower than 2.5%. From the ones that fit the criteria, the region with the highest average profit should be selected."
   ]
  },
  {
   "cell_type": "code",
   "execution_count": 7,
   "metadata": {},
   "outputs": [
    {
     "name": "stdout",
     "output_type": "stream",
     "text": [
      "GEO-0:\n",
      "Average Profit:  4687572\n",
      "2.5% quantile:   -855133\n",
      "97.5% quantile:  10257666\n",
      "Risk of losses:  4.6 %\n",
      "\n",
      "GEO-1:\n",
      "Average Profit:  4953020\n",
      "2.5% quantile:   1095333\n",
      "97.5% quantile:  9365531\n",
      "Risk of losses:  0.9 %\n",
      "\n",
      "GEO-2:\n",
      "Average Profit:  3654378\n",
      "2.5% quantile:   -1850614\n",
      "97.5% quantile:  8931665\n",
      "Risk of losses:  10.0 %\n",
      "\n"
     ]
    }
   ],
   "source": [
    "def bootpredict(results):\n",
    "    target = results['product']\n",
    "    probabilities = results['prediction']\n",
    "    values = []\n",
    "    for i in range(1000):\n",
    "        target_subsample = target.sample(n=500, replace=True, random_state=state)\n",
    "        probs_subsample = probabilities[target_subsample.index] \n",
    "        values.append(profit(target_subsample, probs_subsample, 200))\n",
    "\n",
    "    values = pd.Series(values)\n",
    "    print(\"Average Profit: \", round(values.mean()))\n",
    "    print(\"2.5% quantile:  \",  round(values.quantile(0.025)))\n",
    "    print(\"97.5% quantile: \",  round(values.quantile(0.975)))\n",
    "    print(\"Risk of losses: \", 100*values.lt(0).sum()/len(values),\"%\\n\")\n",
    "\n",
    "print(\"GEO-0:\")\n",
    "bootpredict(results_0)\n",
    "\n",
    "print(\"GEO-1:\")\n",
    "bootpredict(results_1)\n",
    "\n",
    "print(\"GEO-2:\")\n",
    "bootpredict(results_2)"
   ]
  },
  {
   "cell_type": "markdown",
   "metadata": {},
   "source": [
    "#### conclusions\n",
    "- GEO-1 have the highest average oil reserves chosen by our models.\n",
    "- GEO-1 is the only region that have positive revenue in its lower 2.5% quantile using bootstrapping.\n",
    "- GEO-1 have the lowest risk of losses.\n",
    "\n",
    "#### Recommendations\n",
    "- I recomend to use our model in developing GEO-1 region."
   ]
  }
 ],
 "metadata": {
  "ExecuteTimeLog": [
   {
    "duration": 46,
    "start_time": "2022-04-03T07:24:20.103Z"
   },
   {
    "duration": 1130,
    "start_time": "2022-04-03T07:24:24.904Z"
   },
   {
    "duration": 133,
    "start_time": "2022-04-03T07:24:27.403Z"
   },
   {
    "duration": 346,
    "start_time": "2022-04-03T07:25:48.273Z"
   },
   {
    "duration": 4,
    "start_time": "2022-04-03T09:36:23.628Z"
   },
   {
    "duration": 2114,
    "start_time": "2022-04-03T09:40:15.999Z"
   },
   {
    "duration": 387,
    "start_time": "2022-04-03T09:40:28.728Z"
   },
   {
    "duration": 357,
    "start_time": "2022-04-03T09:40:41.326Z"
   },
   {
    "duration": 14,
    "start_time": "2022-04-03T09:43:01.400Z"
   },
   {
    "duration": 3,
    "start_time": "2022-04-03T09:48:27.810Z"
   },
   {
    "duration": 11,
    "start_time": "2022-04-03T09:49:35.898Z"
   },
   {
    "duration": 17,
    "start_time": "2022-04-03T09:50:14.939Z"
   },
   {
    "duration": 24,
    "start_time": "2022-04-03T09:51:43.019Z"
   },
   {
    "duration": 33,
    "start_time": "2022-04-03T09:51:49.000Z"
   },
   {
    "duration": 8,
    "start_time": "2022-04-03T09:51:50.570Z"
   },
   {
    "duration": 166,
    "start_time": "2022-04-03T09:51:51.069Z"
   },
   {
    "duration": 160,
    "start_time": "2022-04-03T09:54:52.080Z"
   },
   {
    "duration": 284,
    "start_time": "2022-04-03T09:55:51.869Z"
   },
   {
    "duration": 227,
    "start_time": "2022-04-03T09:55:57.809Z"
   },
   {
    "duration": 252,
    "start_time": "2022-04-03T09:56:11.880Z"
   },
   {
    "duration": 214,
    "start_time": "2022-04-03T09:56:19.026Z"
   },
   {
    "duration": 403,
    "start_time": "2022-04-03T09:57:31.230Z"
   },
   {
    "duration": 315,
    "start_time": "2022-04-03T09:58:08.119Z"
   },
   {
    "duration": 168,
    "start_time": "2022-04-03T09:58:13.579Z"
   },
   {
    "duration": 236,
    "start_time": "2022-04-03T09:58:21.100Z"
   },
   {
    "duration": 294,
    "start_time": "2022-04-03T09:58:32.740Z"
   },
   {
    "duration": 4,
    "start_time": "2022-04-03T10:12:24.613Z"
   },
   {
    "duration": 4,
    "start_time": "2022-04-03T10:18:20.233Z"
   },
   {
    "duration": 10,
    "start_time": "2022-04-03T10:18:59.162Z"
   },
   {
    "duration": 9,
    "start_time": "2022-04-03T10:19:03.023Z"
   },
   {
    "duration": 4,
    "start_time": "2022-04-03T10:26:52.527Z"
   },
   {
    "duration": 288,
    "start_time": "2022-04-03T10:27:53.349Z"
   },
   {
    "duration": 136,
    "start_time": "2022-04-03T10:28:04.700Z"
   },
   {
    "duration": 10,
    "start_time": "2022-04-03T10:28:41.589Z"
   },
   {
    "duration": 11,
    "start_time": "2022-04-03T10:29:02.468Z"
   },
   {
    "duration": 32023,
    "start_time": "2022-04-03T10:29:09.590Z"
   },
   {
    "duration": 31595,
    "start_time": "2022-04-03T10:33:55.160Z"
   },
   {
    "duration": 32018,
    "start_time": "2022-04-03T10:36:27.060Z"
   },
   {
    "duration": 4,
    "start_time": "2022-04-03T10:39:02.199Z"
   },
   {
    "duration": 5,
    "start_time": "2022-04-03T10:39:09.230Z"
   },
   {
    "duration": 8,
    "start_time": "2022-04-03T10:39:44.459Z"
   },
   {
    "duration": 2,
    "start_time": "2022-04-03T10:39:53.749Z"
   },
   {
    "duration": 15,
    "start_time": "2022-04-03T10:39:56.678Z"
   },
   {
    "duration": 14,
    "start_time": "2022-04-03T10:40:22.758Z"
   },
   {
    "duration": 10,
    "start_time": "2022-04-03T10:40:35.069Z"
   },
   {
    "duration": 19,
    "start_time": "2022-04-03T10:40:39.109Z"
   },
   {
    "duration": 36,
    "start_time": "2022-04-03T10:40:42.469Z"
   },
   {
    "duration": 3,
    "start_time": "2022-04-03T10:41:02.539Z"
   },
   {
    "duration": 45,
    "start_time": "2022-04-03T10:41:23.749Z"
   },
   {
    "duration": 8,
    "start_time": "2022-04-03T10:42:02.429Z"
   },
   {
    "duration": 31496,
    "start_time": "2022-04-03T10:42:12.440Z"
   },
   {
    "duration": 9,
    "start_time": "2022-04-03T10:42:46.438Z"
   },
   {
    "duration": 9,
    "start_time": "2022-04-03T10:43:00.277Z"
   },
   {
    "duration": 31147,
    "start_time": "2022-04-03T10:43:26.229Z"
   },
   {
    "duration": 9,
    "start_time": "2022-04-03T10:44:18.558Z"
   },
   {
    "duration": 11,
    "start_time": "2022-04-03T10:44:42.619Z"
   },
   {
    "duration": 8,
    "start_time": "2022-04-03T10:44:55.109Z"
   },
   {
    "duration": 9,
    "start_time": "2022-04-03T10:45:06.059Z"
   },
   {
    "duration": 108,
    "start_time": "2022-04-03T10:45:25.268Z"
   },
   {
    "duration": 11,
    "start_time": "2022-04-03T10:45:29.117Z"
   },
   {
    "duration": 5,
    "start_time": "2022-04-03T10:46:27.079Z"
   },
   {
    "duration": 6,
    "start_time": "2022-04-03T10:46:31.078Z"
   },
   {
    "duration": 11,
    "start_time": "2022-04-03T10:46:38.469Z"
   },
   {
    "duration": 9,
    "start_time": "2022-04-03T10:52:41.738Z"
   },
   {
    "duration": 12,
    "start_time": "2022-04-03T10:53:06.148Z"
   },
   {
    "duration": 11,
    "start_time": "2022-04-03T10:53:20.459Z"
   },
   {
    "duration": 12,
    "start_time": "2022-04-03T10:53:24.479Z"
   },
   {
    "duration": 6,
    "start_time": "2022-04-03T10:56:09.339Z"
   },
   {
    "duration": 3,
    "start_time": "2022-04-03T10:56:27.273Z"
   },
   {
    "duration": 5,
    "start_time": "2022-04-03T10:56:33.440Z"
   },
   {
    "duration": 9,
    "start_time": "2022-04-03T10:56:41.726Z"
   },
   {
    "duration": 8,
    "start_time": "2022-04-03T10:56:58.147Z"
   },
   {
    "duration": 9,
    "start_time": "2022-04-03T10:57:04.136Z"
   },
   {
    "duration": 4,
    "start_time": "2022-04-03T10:57:12.223Z"
   },
   {
    "duration": 4,
    "start_time": "2022-04-03T10:57:15.696Z"
   },
   {
    "duration": 4,
    "start_time": "2022-04-03T10:57:36.356Z"
   },
   {
    "duration": 4,
    "start_time": "2022-04-03T10:57:44.467Z"
   },
   {
    "duration": 4,
    "start_time": "2022-04-03T10:57:50.076Z"
   },
   {
    "duration": 4,
    "start_time": "2022-04-03T10:57:58.626Z"
   },
   {
    "duration": 5,
    "start_time": "2022-04-03T10:58:28.706Z"
   },
   {
    "duration": 5,
    "start_time": "2022-04-03T10:58:38.146Z"
   },
   {
    "duration": 3,
    "start_time": "2022-04-03T10:59:27.588Z"
   },
   {
    "duration": 4,
    "start_time": "2022-04-03T10:59:31.836Z"
   },
   {
    "duration": 8,
    "start_time": "2022-04-03T10:59:54.386Z"
   },
   {
    "duration": 3,
    "start_time": "2022-04-03T11:00:04.016Z"
   },
   {
    "duration": 9,
    "start_time": "2022-04-03T11:00:10.906Z"
   },
   {
    "duration": 8,
    "start_time": "2022-04-03T11:00:17.054Z"
   },
   {
    "duration": 5,
    "start_time": "2022-04-03T11:00:21.785Z"
   },
   {
    "duration": 4,
    "start_time": "2022-04-03T11:02:05.506Z"
   },
   {
    "duration": 3,
    "start_time": "2022-04-03T11:04:26.065Z"
   },
   {
    "duration": 4,
    "start_time": "2022-04-03T11:04:27.095Z"
   },
   {
    "duration": 4,
    "start_time": "2022-04-03T11:04:41.777Z"
   },
   {
    "duration": 4,
    "start_time": "2022-04-03T11:04:50.816Z"
   },
   {
    "duration": 10,
    "start_time": "2022-04-03T11:05:00.545Z"
   },
   {
    "duration": 5,
    "start_time": "2022-04-03T11:05:06.245Z"
   },
   {
    "duration": 5,
    "start_time": "2022-04-03T11:05:19.486Z"
   },
   {
    "duration": 4,
    "start_time": "2022-04-03T11:05:20.424Z"
   },
   {
    "duration": 5,
    "start_time": "2022-04-03T11:06:35.745Z"
   },
   {
    "duration": 4,
    "start_time": "2022-04-03T11:06:36.656Z"
   },
   {
    "duration": 5,
    "start_time": "2022-04-03T11:06:37.264Z"
   },
   {
    "duration": 6,
    "start_time": "2022-04-03T11:08:34.823Z"
   },
   {
    "duration": 8,
    "start_time": "2022-04-03T11:29:07.445Z"
   },
   {
    "duration": 8,
    "start_time": "2022-04-03T11:29:07.711Z"
   },
   {
    "duration": 11,
    "start_time": "2022-04-03T11:42:28.970Z"
   },
   {
    "duration": 7,
    "start_time": "2022-04-03T11:45:38.080Z"
   },
   {
    "duration": 13,
    "start_time": "2022-04-03T11:55:20.271Z"
   },
   {
    "duration": 156,
    "start_time": "2022-04-03T11:55:41.630Z"
   },
   {
    "duration": 184862,
    "start_time": "2022-04-03T11:55:56.840Z"
   },
   {
    "duration": 20224,
    "start_time": "2022-04-03T11:59:13.381Z"
   },
   {
    "duration": 20028,
    "start_time": "2022-04-03T12:01:08.490Z"
   },
   {
    "duration": 20243,
    "start_time": "2022-04-03T12:01:28.520Z"
   },
   {
    "duration": 19605,
    "start_time": "2022-04-03T12:03:24.961Z"
   },
   {
    "duration": 20312,
    "start_time": "2022-04-03T12:03:55.961Z"
   },
   {
    "duration": 3068,
    "start_time": "2022-04-03T12:08:17.076Z"
   },
   {
    "duration": 7230,
    "start_time": "2022-04-03T12:09:00.187Z"
   },
   {
    "duration": 7424,
    "start_time": "2022-04-03T12:09:19.087Z"
   },
   {
    "duration": 3,
    "start_time": "2022-04-03T12:10:34.926Z"
   },
   {
    "duration": 14043,
    "start_time": "2022-04-03T12:11:27.106Z"
   },
   {
    "duration": 29572,
    "start_time": "2022-04-03T12:11:45.876Z"
   },
   {
    "duration": 4,
    "start_time": "2022-04-03T12:15:09.346Z"
   },
   {
    "duration": 29527,
    "start_time": "2022-04-03T12:24:48.526Z"
   },
   {
    "duration": 12,
    "start_time": "2022-04-03T12:38:16.677Z"
   },
   {
    "duration": 8,
    "start_time": "2022-04-03T12:39:27.630Z"
   },
   {
    "duration": 4,
    "start_time": "2022-04-03T12:39:33.280Z"
   },
   {
    "duration": 9,
    "start_time": "2022-04-03T12:39:47.210Z"
   },
   {
    "duration": 9,
    "start_time": "2022-04-03T12:40:23.329Z"
   },
   {
    "duration": 9,
    "start_time": "2022-04-03T12:40:28.730Z"
   },
   {
    "duration": 8,
    "start_time": "2022-04-03T12:40:42.301Z"
   },
   {
    "duration": 20,
    "start_time": "2022-04-03T12:41:48.510Z"
   },
   {
    "duration": 6,
    "start_time": "2022-04-03T12:42:03.330Z"
   },
   {
    "duration": 4,
    "start_time": "2022-04-03T12:42:23.910Z"
   },
   {
    "duration": 5,
    "start_time": "2022-04-03T12:43:38.761Z"
   },
   {
    "duration": 3,
    "start_time": "2022-04-03T12:44:32.169Z"
   },
   {
    "duration": 6,
    "start_time": "2022-04-03T12:44:37.130Z"
   },
   {
    "duration": 8,
    "start_time": "2022-04-03T12:45:39.920Z"
   },
   {
    "duration": 16,
    "start_time": "2022-04-03T12:46:17.170Z"
   },
   {
    "duration": 908,
    "start_time": "2022-04-03T12:46:28.719Z"
   },
   {
    "duration": 8,
    "start_time": "2022-04-03T12:46:55.170Z"
   },
   {
    "duration": 9,
    "start_time": "2022-04-03T12:47:09.220Z"
   },
   {
    "duration": 6,
    "start_time": "2022-04-03T12:47:19.200Z"
   },
   {
    "duration": 30,
    "start_time": "2022-04-03T12:47:41.160Z"
   },
   {
    "duration": 207,
    "start_time": "2022-04-03T12:47:43.229Z"
   },
   {
    "duration": 9,
    "start_time": "2022-04-03T12:47:46.409Z"
   },
   {
    "duration": 9,
    "start_time": "2022-04-03T12:47:50.579Z"
   },
   {
    "duration": 9,
    "start_time": "2022-04-03T12:48:12.030Z"
   },
   {
    "duration": 8,
    "start_time": "2022-04-03T12:48:26.232Z"
   },
   {
    "duration": 9,
    "start_time": "2022-04-03T12:49:19.070Z"
   },
   {
    "duration": 12,
    "start_time": "2022-04-03T12:49:30.220Z"
   },
   {
    "duration": 10,
    "start_time": "2022-04-03T12:49:39.239Z"
   },
   {
    "duration": 12,
    "start_time": "2022-04-03T12:50:33.210Z"
   },
   {
    "duration": 3,
    "start_time": "2022-04-03T12:51:37.339Z"
   },
   {
    "duration": 7,
    "start_time": "2022-04-03T12:51:41.840Z"
   },
   {
    "duration": 6,
    "start_time": "2022-04-03T12:51:58.870Z"
   },
   {
    "duration": 6,
    "start_time": "2022-04-03T12:52:12.970Z"
   },
   {
    "duration": 101,
    "start_time": "2022-04-03T12:52:30.658Z"
   },
   {
    "duration": 1170,
    "start_time": "2022-04-03T12:53:07.269Z"
   },
   {
    "duration": 116,
    "start_time": "2022-04-03T13:01:03.779Z"
   },
   {
    "duration": 116,
    "start_time": "2022-04-03T13:01:27.368Z"
   },
   {
    "duration": 7,
    "start_time": "2022-04-03T13:01:45.739Z"
   },
   {
    "duration": 8,
    "start_time": "2022-04-03T13:01:54.199Z"
   },
   {
    "duration": 3442,
    "start_time": "2022-04-03T13:01:54.848Z"
   },
   {
    "duration": 3616,
    "start_time": "2022-04-03T13:06:47.968Z"
   },
   {
    "duration": 3503,
    "start_time": "2022-04-03T13:07:33.868Z"
   },
   {
    "duration": 3857,
    "start_time": "2022-04-03T13:07:55.699Z"
   },
   {
    "duration": 3601,
    "start_time": "2022-04-03T13:08:04.999Z"
   },
   {
    "duration": 3606,
    "start_time": "2022-04-03T13:08:20.546Z"
   },
   {
    "duration": 1683,
    "start_time": "2022-04-04T06:31:32.540Z"
   },
   {
    "duration": 437,
    "start_time": "2022-04-04T06:31:34.225Z"
   },
   {
    "duration": 48,
    "start_time": "2022-04-04T06:31:34.668Z"
   },
   {
    "duration": 313,
    "start_time": "2022-04-04T06:31:34.970Z"
   },
   {
    "duration": 12,
    "start_time": "2022-04-04T06:31:38.630Z"
   },
   {
    "duration": 5257,
    "start_time": "2022-04-04T06:31:39.180Z"
   },
   {
    "duration": 5,
    "start_time": "2022-04-04T06:46:09.159Z"
   },
   {
    "duration": 7,
    "start_time": "2022-04-04T06:48:04.937Z"
   },
   {
    "duration": 7,
    "start_time": "2022-04-04T06:48:39.157Z"
   },
   {
    "duration": 7,
    "start_time": "2022-04-04T06:49:07.017Z"
   },
   {
    "duration": 7,
    "start_time": "2022-04-04T06:49:19.877Z"
   },
   {
    "duration": 8,
    "start_time": "2022-04-04T06:50:26.056Z"
   },
   {
    "duration": 9,
    "start_time": "2022-04-04T06:50:34.707Z"
   },
   {
    "duration": 7,
    "start_time": "2022-04-04T06:50:41.377Z"
   },
   {
    "duration": 8,
    "start_time": "2022-04-04T06:50:44.737Z"
   },
   {
    "duration": 1234,
    "start_time": "2022-04-04T09:43:36.517Z"
   },
   {
    "duration": 397,
    "start_time": "2022-04-04T09:43:37.753Z"
   },
   {
    "duration": 39,
    "start_time": "2022-04-04T09:43:38.152Z"
   },
   {
    "duration": 342,
    "start_time": "2022-04-04T09:43:38.194Z"
   },
   {
    "duration": 5,
    "start_time": "2022-04-04T09:43:40.248Z"
   },
   {
    "duration": 9,
    "start_time": "2022-04-04T09:43:42.218Z"
   },
   {
    "duration": 4114,
    "start_time": "2022-04-04T09:43:43.088Z"
   },
   {
    "duration": 1505,
    "start_time": "2022-04-06T08:10:31.904Z"
   },
   {
    "duration": 461,
    "start_time": "2022-04-06T08:10:33.412Z"
   },
   {
    "duration": 47,
    "start_time": "2022-04-06T08:10:33.875Z"
   },
   {
    "duration": 357,
    "start_time": "2022-04-06T08:10:34.434Z"
   },
   {
    "duration": 283,
    "start_time": "2022-04-06T08:11:33.598Z"
   },
   {
    "duration": 312,
    "start_time": "2022-04-06T08:11:58.755Z"
   },
   {
    "duration": 378,
    "start_time": "2022-04-06T08:14:20.891Z"
   },
   {
    "duration": 8,
    "start_time": "2022-04-06T08:14:33.991Z"
   },
   {
    "duration": 13,
    "start_time": "2022-04-06T08:14:34.880Z"
   },
   {
    "duration": 5431,
    "start_time": "2022-04-06T08:14:35.561Z"
   },
   {
    "duration": 6,
    "start_time": "2022-04-06T08:21:15.847Z"
   },
   {
    "duration": 12,
    "start_time": "2022-04-06T08:21:18.736Z"
   },
   {
    "duration": 5509,
    "start_time": "2022-04-06T08:21:19.486Z"
   },
   {
    "duration": 12,
    "start_time": "2022-04-06T08:22:44.605Z"
   },
   {
    "duration": 5296,
    "start_time": "2022-04-06T08:22:45.396Z"
   },
   {
    "duration": 7,
    "start_time": "2022-04-06T08:23:14.219Z"
   },
   {
    "duration": 661,
    "start_time": "2022-04-06T08:23:14.928Z"
   },
   {
    "duration": 57,
    "start_time": "2022-04-06T08:23:15.629Z"
   },
   {
    "duration": 283,
    "start_time": "2022-04-06T08:23:16.088Z"
   },
   {
    "duration": 7,
    "start_time": "2022-04-06T08:23:17.038Z"
   },
   {
    "duration": 12,
    "start_time": "2022-04-06T08:23:18.079Z"
   },
   {
    "duration": 5687,
    "start_time": "2022-04-06T08:23:19.038Z"
   },
   {
    "duration": 5250,
    "start_time": "2022-04-06T08:27:36.121Z"
   },
   {
    "duration": 15,
    "start_time": "2022-04-06T08:27:48.158Z"
   },
   {
    "duration": 42,
    "start_time": "2022-04-06T08:28:21.788Z"
   },
   {
    "duration": 139,
    "start_time": "2022-04-06T08:28:22.238Z"
   },
   {
    "duration": 5,
    "start_time": "2022-04-06T08:28:27.558Z"
   },
   {
    "duration": 415,
    "start_time": "2022-04-06T08:28:28.028Z"
   },
   {
    "duration": 45,
    "start_time": "2022-04-06T08:28:28.445Z"
   },
   {
    "duration": 281,
    "start_time": "2022-04-06T08:28:28.697Z"
   },
   {
    "duration": 7,
    "start_time": "2022-04-06T08:28:29.347Z"
   },
   {
    "duration": 12,
    "start_time": "2022-04-06T08:28:32.248Z"
   },
   {
    "duration": 5374,
    "start_time": "2022-04-06T08:28:33.639Z"
   },
   {
    "duration": 1399,
    "start_time": "2022-04-06T08:29:57.167Z"
   },
   {
    "duration": 416,
    "start_time": "2022-04-06T08:29:58.569Z"
   },
   {
    "duration": 46,
    "start_time": "2022-04-06T08:29:58.987Z"
   },
   {
    "duration": 337,
    "start_time": "2022-04-06T08:29:59.036Z"
   },
   {
    "duration": 7,
    "start_time": "2022-04-06T08:29:59.916Z"
   },
   {
    "duration": 12,
    "start_time": "2022-04-06T08:30:01.866Z"
   },
   {
    "duration": 5138,
    "start_time": "2022-04-06T08:30:02.876Z"
   },
   {
    "duration": 14,
    "start_time": "2022-04-06T08:30:10.366Z"
   },
   {
    "duration": 6,
    "start_time": "2022-04-06T08:30:54.846Z"
   },
   {
    "duration": 17,
    "start_time": "2022-04-06T08:31:14.256Z"
   },
   {
    "duration": 95,
    "start_time": "2022-04-06T08:31:32.806Z"
   },
   {
    "duration": 136,
    "start_time": "2022-04-06T08:31:46.246Z"
   },
   {
    "duration": 12,
    "start_time": "2022-04-06T08:31:50.927Z"
   },
   {
    "duration": 7,
    "start_time": "2022-04-06T08:35:30.676Z"
   },
   {
    "duration": 6,
    "start_time": "2022-04-06T08:35:38.566Z"
   },
   {
    "duration": 6,
    "start_time": "2022-04-06T08:35:41.846Z"
   },
   {
    "duration": 11,
    "start_time": "2022-04-06T08:35:44.576Z"
   },
   {
    "duration": 5497,
    "start_time": "2022-04-06T08:36:01.837Z"
   },
   {
    "duration": 6,
    "start_time": "2022-04-06T08:36:14.846Z"
   },
   {
    "duration": 7,
    "start_time": "2022-04-06T08:36:21.886Z"
   },
   {
    "duration": 6,
    "start_time": "2022-04-06T08:36:26.986Z"
   },
   {
    "duration": 7,
    "start_time": "2022-04-06T08:38:23.952Z"
   },
   {
    "duration": 8,
    "start_time": "2022-04-06T08:38:32.165Z"
   },
   {
    "duration": 7,
    "start_time": "2022-04-06T08:38:42.085Z"
   },
   {
    "duration": 7,
    "start_time": "2022-04-06T08:39:10.075Z"
   },
   {
    "duration": 7,
    "start_time": "2022-04-06T08:39:16.125Z"
   },
   {
    "duration": 5208,
    "start_time": "2022-04-06T08:41:00.245Z"
   },
   {
    "duration": 5122,
    "start_time": "2022-04-06T08:41:17.745Z"
   },
   {
    "duration": 5317,
    "start_time": "2022-04-06T08:41:30.155Z"
   },
   {
    "duration": 1967,
    "start_time": "2022-04-06T08:42:20.822Z"
   },
   {
    "duration": 635,
    "start_time": "2022-04-06T08:42:22.792Z"
   },
   {
    "duration": 62,
    "start_time": "2022-04-06T08:42:23.429Z"
   },
   {
    "duration": 475,
    "start_time": "2022-04-06T08:42:23.494Z"
   },
   {
    "duration": 96,
    "start_time": "2022-04-06T08:42:23.974Z"
   },
   {
    "duration": 17,
    "start_time": "2022-04-06T08:42:24.074Z"
   },
   {
    "duration": 6059,
    "start_time": "2022-04-06T08:42:24.093Z"
   },
   {
    "duration": 1478,
    "start_time": "2022-04-06T08:42:45.240Z"
   },
   {
    "duration": 446,
    "start_time": "2022-04-06T08:42:46.721Z"
   },
   {
    "duration": 48,
    "start_time": "2022-04-06T08:42:47.169Z"
   },
   {
    "duration": 256,
    "start_time": "2022-04-06T08:42:47.219Z"
   },
   {
    "duration": 91,
    "start_time": "2022-04-06T08:42:47.485Z"
   },
   {
    "duration": 13,
    "start_time": "2022-04-06T08:42:47.668Z"
   },
   {
    "duration": 5414,
    "start_time": "2022-04-06T08:42:47.683Z"
   },
   {
    "duration": 1566,
    "start_time": "2022-04-19T13:31:25.697Z"
   },
   {
    "duration": 4554,
    "start_time": "2022-04-19T13:31:27.265Z"
   },
   {
    "duration": 62,
    "start_time": "2022-04-19T13:31:31.821Z"
   },
   {
    "duration": 305,
    "start_time": "2022-04-19T13:31:31.889Z"
   },
   {
    "duration": 91,
    "start_time": "2022-04-19T13:31:32.196Z"
   },
   {
    "duration": 125,
    "start_time": "2022-04-19T13:31:32.289Z"
   },
   {
    "duration": 6373,
    "start_time": "2022-04-19T13:31:32.417Z"
   }
  ],
  "kernelspec": {
   "display_name": "Python 3 (ipykernel)",
   "language": "python",
   "name": "python3"
  },
  "language_info": {
   "codemirror_mode": {
    "name": "ipython",
    "version": 3
   },
   "file_extension": ".py",
   "mimetype": "text/x-python",
   "name": "python",
   "nbconvert_exporter": "python",
   "pygments_lexer": "ipython3",
   "version": "3.9.5"
  },
  "toc": {
   "base_numbering": 1,
   "nav_menu": {},
   "number_sections": true,
   "sideBar": true,
   "skip_h1_title": true,
   "title_cell": "Table of Contents",
   "title_sidebar": "Contents",
   "toc_cell": false,
   "toc_position": {},
   "toc_section_display": true,
   "toc_window_display": false
  }
 },
 "nbformat": 4,
 "nbformat_minor": 2
}
